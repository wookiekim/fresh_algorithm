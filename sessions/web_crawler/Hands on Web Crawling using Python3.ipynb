{
 "cells": [
  {
   "cell_type": "markdown",
   "metadata": {},
   "source": [
    "# Web Crawling 실습 \n",
    "* 항상 생각해왔던 개발자라면 해봐야 할 것' 중 하나\n",
    "* 이번 실습에서는 Python 3를 사용\n",
    "* 동일한 환경을 위해 제 개인 AWS 서버를 사용"
   ]
  },
  {
   "cell_type": "markdown",
   "metadata": {},
   "source": [
    "## 목차\n",
    "1. 개발환경 및 리눅스 환경에 대해\n",
    "2. 클라우드에 대해 (AWS? GCP? CoLab?)\n",
    "  * 2.5. 제 서버 접속법\n",
    "3. Web Crawling이란 무엇인가?\n",
    "4. Python Notebook이란 무엇인가?\n",
    "5. 실습 - Reddit 크롤링 "
   ]
  },
  {
   "cell_type": "markdown",
   "metadata": {},
   "source": [
    "### 1. 개발환경 및 리눅스 환경에 대해\n",
    "\n",
    "* **개발환경**이라 하면 주로 작업하는 OS (운영체제), 코드를 작성할 때 사용하는 Editor등을 의미함\n",
    "  * Windwos, Linux, MacOS 등의 운영체제가 있으며\n",
    "  * vim, emacs 등의 Editor가 있습니다 (Window상에서는 VS code, SublimeText...)\n",
    "* 개발자들은 왜 그렇게 Linux를 좋아하는가?\n",
    "  * 오픈소스이다 \n",
    "  * 버전이 다양하다 (Ubuntu, RedHat, Oracle)\n",
    "  * 낮은 사용성에 비해 익숙해지면 효율이 극대화된다\n",
    "  * 모든 Tool이 무료로 배포되어있어, 새로운 것을 시도해보기 간편하다 \n",
    "    * 개발환경에 대한 Full Control \n",
    "    * Software Support\n",
    "  * 그러다보니 개발자들 사이에서 대중적이며, 많은 개발자들이 모인 회사에서는 자연스레 리눅스를 개발환경으로 사용하게 되는 것"
   ]
  },
  {
   "cell_type": "markdown",
   "metadata": {},
   "source": [
    "### 2. 클라우드에 대해 (AWS? GCP? CoLab?)\n",
    "\n",
    "* 개발을 하기 위해서는 컴퓨터가 필요하다. \n",
    "* 주로 회사는 많은 데이터를 다루거나, 많은 사용자를 감당할 수 있는 서버를 띄워야 함\n",
    "  * 서버 == 컴퓨터\n",
    "* 이에 따라 예전에는 회사마다 서버 역할을 하는 컴퓨터가 있었음\n",
    "  * 최근에는 회사/학교별로 **서버용 컴퓨터**가 자리잡고 있음.\n",
    "  * Rack이라는 옷장 비스무리한 곳에 여러 서버용 컴퓨터가 들어감\n",
    "  * Rack을 모으면 Cluster라고 불림\n",
    "  * 세계적 회사들의 Data Center는 많은 Cluster들로 이루어져 있는 것\n",
    "* 그러나 회사가 컴퓨터까지 신경써야 하는 것은 너무 귀찮은 일!\n",
    "  * 전기세..청소...열 관리...\n",
    "  * 정전이 나거나...서버에 문제가 생기면 직접 회사로 달려가야 하는 일이 허다\n",
    "* '우리 회사의 컴퓨터를 빌려주겠다' :: 클라우드 시스템\n",
    "  * 누가 먼저 시작하게 된 것인지는 모르겠지만 AWS가 현재 대표적\n",
    "  * Online e-Bay 라는 이미지지만 AWS를 통해 벌어들이는 수익이 대부분\n",
    "  * 국내에서 웬만한 스타트업은 AWS를 사용하며, 해외에서도 NetFlix가 AWS를 사용\n",
    "  * AWS의 데이터 센터들이 위치한 곳 (각 대륙...특정 국가...등)의 컴퓨터를 빌려줌\n",
    "  * 단순히 빌려주는 것 뿐만 아니라 관리, 최적화, 세팅 등을 해줌 \n",
    "  * 물론 사용자의 니즈에 따라서 알아서 관리할 수 있게 해주는데, 대신 문제가 생기면\n",
    "    * 회사로 달려가는 것이 아니라 aws console (웹사이트)를 통해서 관리할 수가 있게 되었음\n",
    "    * 껐다 켜는 것과 같은 물리적인 실행도 가능\n",
    "      * 하지만 마지막 보루와도 같은 행동..\n",
    " * 오늘 실습이 이루어질 환경도 제 개인적인 AWS 서버!"
   ]
  },
  {
   "cell_type": "markdown",
   "metadata": {},
   "source": [
    "#### 2.5. 제 서버 접속법\n",
    "* 저희 단체톡방에 `ubuntu_server_kpair.zip` 파일을 올렸으며\n",
    "  * 안에는 `ubuntu_server_kpair.pem` 파일이 들어있습니다\n",
    "  * 이는 제 서버에 접속 권한을 주는 파일이며, 우리가 평소 생각하는 \"아이디 비번\"과 같은 역할을 한다고 봐도 되겠습니다\n",
    "  * 그러니 원래 공유하는 것은 절대 금지하지만...\n",
    "    * (이유 설명)\n",
    "* `ssh -i (path to ubuntu_server_kpair.pem) ubuntu@ec2-13-125-225-190.ap-northeast-2.compute.amazonaws.com`\n",
    "* [xshell 접속법] (https://netsarang.atlassian.net/wiki/spaces/KRSUP/pages/24903754/AWS+EC2+SSH)"
   ]
  },
  {
   "cell_type": "markdown",
   "metadata": {},
   "source": [
    "### 3. Web Crawling이란 무엇인가?\n",
    "* 웹사이트도 결국 하나의 파일\n",
    "* 세상 어딘가에 있는 파일을 우리가 웹 브라우저를 통해 보는 것\n",
    "* 특정 웹사이트가 가지고 있는 특정 정보를 가져오는 과정이 Web Crawling!\n",
    "  * HTML에 대한 이해가 기반이 되어있어야 한다\n",
    "  * ..그런데 몰라도 할만 함"
   ]
  },
  {
   "cell_type": "markdown",
   "metadata": {},
   "source": [
    "### 4. Python Notebook이란 무엇인가?\n",
    "* Python은 스크립트 언어\n",
    "* 한 줄 한 줄 실행됨 (실제로 오류가 있는 줄까지는 항상 실행됨, C의 컴파일 오류같은 개념이 없음)\n",
    "* 이에 따라 실행한 만큼을 실시간으로 보여주는, user-friendly 환경이 지금 이 파일과 같은 \"Jupyter Notebook\"!\n",
    "  * 그래프와 그림도 실시간으로 보여주기에 주로 그래프를 자주 보는 데이터 분석가들 (Data Analyst)이 많이 사용함\n",
    "  * 파이썬 초보자도 많이 사용함 ㅎ__ㅎ"
   ]
  },
  {
   "cell_type": "markdown",
   "metadata": {},
   "source": [
    "### 5. 실습 - Reddit Crawling\n",
    "[참고 링크](https://www.datacamp.com/community/tutorials/scraping-reddit-python-scrapy)\n",
    "\n",
    "[타깃 링크](https://www.reddit.com/r/learnprogramming/top/?t=day)"
   ]
  },
  {
   "cell_type": "code",
   "execution_count": null,
   "metadata": {},
   "outputs": [],
   "source": []
  }
 ],
 "metadata": {
  "kernelspec": {
   "display_name": "Python 3",
   "language": "python",
   "name": "python3"
  },
  "language_info": {
   "codemirror_mode": {
    "name": "ipython",
    "version": 3
   },
   "file_extension": ".py",
   "mimetype": "text/x-python",
   "name": "python",
   "nbconvert_exporter": "python",
   "pygments_lexer": "ipython3",
   "version": "3.7.1"
  }
 },
 "nbformat": 4,
 "nbformat_minor": 2
}
